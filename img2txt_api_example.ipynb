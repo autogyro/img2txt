{
 "cells": [
  {
   "cell_type": "markdown",
   "metadata": {},
   "source": [
    "# Training"
   ]
  },
  {
   "cell_type": "markdown",
   "metadata": {},
   "source": [
    "## Prepare training and validation datasets."
   ]
  },
  {
   "cell_type": "code",
   "execution_count": null,
   "metadata": {
    "ExecuteTime": {
     "end_time": "2018-05-08T08:52:02.471900Z",
     "start_time": "2018-05-08T08:52:02.279325Z"
    }
   },
   "outputs": [],
   "source": [
    "from utils.dataset import MSCOCO, Vocabulary"
   ]
  },
  {
   "cell_type": "code",
   "execution_count": null,
   "metadata": {
    "ExecuteTime": {
     "end_time": "2018-05-08T08:52:03.897131Z",
     "start_time": "2018-05-08T08:52:02.971398Z"
    }
   },
   "outputs": [],
   "source": [
    "dataset_path = '../datasets/'\n",
    "ms_coco_train_caption_file = (\n",
    "    dataset_path + 'ms_coco/annotations/captions_train2014.json'\n",
    ") \n",
    "ms_coco_train_image_dir = (\n",
    "    dataset_path + 'ms_coco/train2014/'\n",
    ")\n",
    "training_dataset = MSCOCO(\n",
    "    caption_file=ms_coco_train_caption_file,\n",
    "    image_dir=ms_coco_train_image_dir,\n",
    ")"
   ]
  },
  {
   "cell_type": "code",
   "execution_count": null,
   "metadata": {
    "ExecuteTime": {
     "end_time": "2018-05-08T08:52:14.737099Z",
     "start_time": "2018-05-08T08:52:14.725490Z"
    }
   },
   "outputs": [],
   "source": [
    "training_dataset.get_size()"
   ]
  },
  {
   "cell_type": "code",
   "execution_count": null,
   "metadata": {
    "ExecuteTime": {
     "end_time": "2018-05-08T08:52:16.157655Z",
     "start_time": "2018-05-08T08:52:15.700288Z"
    }
   },
   "outputs": [],
   "source": [
    "ms_coco_val_caption_file = (\n",
    "    dataset_path + 'ms_coco/annotations/captions_val2014.json'\n",
    ") \n",
    "ms_coco_val_image_dir = (\n",
    "    dataset_path + 'ms_coco/val2014/'\n",
    ")\n",
    "validation_dataset = MSCOCO(\n",
    "    caption_file=ms_coco_val_caption_file,\n",
    "    image_dir=ms_coco_val_image_dir,\n",
    ")"
   ]
  },
  {
   "cell_type": "code",
   "execution_count": null,
   "metadata": {
    "ExecuteTime": {
     "end_time": "2018-05-08T08:52:16.162697Z",
     "start_time": "2018-05-08T08:52:16.159322Z"
    }
   },
   "outputs": [],
   "source": [
    "validation_dataset.get_size()"
   ]
  },
  {
   "cell_type": "markdown",
   "metadata": {},
   "source": [
    "## Build vocabulary from the training dataset."
   ]
  },
  {
   "cell_type": "code",
   "execution_count": null,
   "metadata": {
    "ExecuteTime": {
     "end_time": "2017-08-22T06:06:07.689525Z",
     "start_time": "2017-08-22T02:05:32.693602-04:00"
    }
   },
   "outputs": [],
   "source": [
    "vocabulary = Vocabulary(\n",
    "    min_word_count=3,\n",
    "    dataset=training_dataset,\n",
    ")"
   ]
  },
  {
   "cell_type": "code",
   "execution_count": null,
   "metadata": {
    "ExecuteTime": {
     "end_time": "2017-08-22T06:06:07.693543Z",
     "start_time": "2017-08-22T02:06:07.690603-04:00"
    }
   },
   "outputs": [],
   "source": [
    "vocabulary.get_size()"
   ]
  },
  {
   "cell_type": "code",
   "execution_count": null,
   "metadata": {
    "ExecuteTime": {
     "end_time": "2017-08-22T06:06:20.758264Z",
     "start_time": "2017-08-22T02:06:20.689536-04:00"
    }
   },
   "outputs": [],
   "source": [
    "vocabulary.save('vocabs/ms_coco_vocabulary.json')"
   ]
  },
  {
   "cell_type": "markdown",
   "metadata": {},
   "source": [
    "## Train the model."
   ]
  },
  {
   "cell_type": "code",
   "execution_count": null,
   "metadata": {
    "ExecuteTime": {
     "end_time": "2018-05-08T08:52:22.130526Z",
     "start_time": "2018-05-08T08:52:19.580541Z"
    }
   },
   "outputs": [],
   "source": [
    "from tf_model.model import Image2Text"
   ]
  },
  {
   "cell_type": "code",
   "execution_count": null,
   "metadata": {
    "ExecuteTime": {
     "end_time": "2018-05-08T08:53:35.963023Z",
     "start_time": "2018-05-08T08:53:35.912927Z"
    }
   },
   "outputs": [],
   "source": [
    "img2txt = Image2Text(\n",
    "    training_dataset=training_dataset,\n",
    "    validation_dataset=validation_dataset,\n",
    "    vocabulary_file_path='vocabs/ms_coco_vocabulary.json',\n",
    "    config_file_path='default_config.json',\n",
    ")"
   ]
  },
  {
   "cell_type": "code",
   "execution_count": null,
   "metadata": {
    "ExecuteTime": {
     "end_time": "2017-08-22T06:18:55.293738Z",
     "start_time": "2017-08-22T02:17:34.870501-04:00"
    }
   },
   "outputs": [],
   "source": [
    "rd = img2txt.train(\n",
    "    max_num_steps=10 ** 2,\n",
    ")"
   ]
  },
  {
   "cell_type": "markdown",
   "metadata": {},
   "source": [
    "## Load a saved model and do an additional training."
   ]
  },
  {
   "cell_type": "code",
   "execution_count": null,
   "metadata": {
    "ExecuteTime": {
     "end_time": "2017-08-22T06:20:40.340983Z",
     "start_time": "2017-08-22T02:20:36.035588-04:00"
    }
   },
   "outputs": [],
   "source": [
    "img2txt = Image2Text(\n",
    "    training_dataset=training_dataset,\n",
    "    validation_dataset=validation_dataset,\n",
    "    vocabulary_file_path='ms_coco_vocabulary.json',\n",
    "    config_file_path='0822_021734/config.json',\n",
    "    checkpoint_save_path='0822_021734/img2txt-100',\n",
    ")"
   ]
  },
  {
   "cell_type": "code",
   "execution_count": null,
   "metadata": {
    "ExecuteTime": {
     "end_time": "2017-08-22T06:22:13.380009Z",
     "start_time": "2017-08-22T02:20:50.285466-04:00"
    },
    "scrolled": true
   },
   "outputs": [],
   "source": [
    "rd = img2txt.train(\n",
    "    additional_num_steps=100,\n",
    ")"
   ]
  },
  {
   "cell_type": "code",
   "execution_count": null,
   "metadata": {},
   "outputs": [],
   "source": []
  }
 ],
 "metadata": {
  "kernelspec": {
   "display_name": "Python 3",
   "language": "python",
   "name": "python3"
  },
  "language_info": {
   "codemirror_mode": {
    "name": "ipython",
    "version": 3
   },
   "file_extension": ".py",
   "mimetype": "text/x-python",
   "name": "python",
   "nbconvert_exporter": "python",
   "pygments_lexer": "ipython3",
   "version": "3.6.5"
  },
  "toc": {
   "colors": {
    "hover_highlight": "#DAA520",
    "running_highlight": "#FF0000",
    "selected_highlight": "#FFD700"
   },
   "moveMenuLeft": true,
   "nav_menu": {
    "height": "115px",
    "width": "252px"
   },
   "navigate_menu": true,
   "number_sections": true,
   "sideBar": true,
   "threshold": 4,
   "toc_cell": false,
   "toc_section_display": "block",
   "toc_window_display": false,
   "widenNotebook": false
  }
 },
 "nbformat": 4,
 "nbformat_minor": 2
}
